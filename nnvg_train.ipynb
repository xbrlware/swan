{
 "cells": [
  {
   "cell_type": "markdown",
   "metadata": {},
   "source": [
    "List of RNN's in Github\n",
    "\n",
    "https://news.ycombinator.com/item?id=9283105"
   ]
  },
  {
   "cell_type": "code",
   "execution_count": 1,
   "metadata": {
    "collapsed": false
   },
   "outputs": [
    {
     "name": "stderr",
     "output_type": "stream",
     "text": [
      "Using gpu device 0: GeForce GT 650M\n"
     ]
    }
   ],
   "source": [
    "from __future__ import absolute_import\n",
    "from __future__ import print_function\n",
    "import numpy\n",
    "import theano\n",
    "\n",
    "from keras.preprocessing import sequence\n",
    "from keras.optimizers import SGD, RMSprop, Adagrad\n",
    "from keras.utils import np_utils\n",
    "from keras.models import Sequential\n",
    "from keras.layers.core import Layer, Dense, Dropout, Activation\n",
    "from keras.layers.embeddings import Embedding\n",
    "from keras.layers.recurrent import LSTM, GRU\n",
    "from keras.datasets import imdb"
   ]
  },
  {
   "cell_type": "code",
   "execution_count": 2,
   "metadata": {
    "collapsed": false
   },
   "outputs": [
    {
     "name": "stdout",
     "output_type": "stream",
     "text": [
      "test % of train 0.255446927374\n",
      "sum of first [ 0.0185431   0.0165004   0.0172945   0.01715936]\n"
     ]
    }
   ],
   "source": [
    "with open(\"train_test.npz\", \"rb\") as f:\n",
    "    data = numpy.load(f)\n",
    "    X_train = data['X_train']\n",
    "    y_train = data['y_train']\n",
    "    X_test = data['X_test']\n",
    "    y_test = data['y_test']\n",
    "    \n",
    "print(\"test % of train\", 1.0 * len(X_test)/len(X_train))\n",
    "print(\"sum of first\", numpy.sum(X_train[0]**2, axis=-1 ))"
   ]
  },
  {
   "cell_type": "code",
   "execution_count": 14,
   "metadata": {
    "collapsed": false
   },
   "outputs": [],
   "source": [
    "model = Sequential()\n",
    "\n",
    "# Works\n",
    "# model.add(LSTM(15, 15)) # try using a GRU instead, for fun\n",
    "# model.add(Dense(15, 15))\n",
    "# # model.add(Dropout(0.5))\n",
    "# model.add(Dense(15, 1))\n",
    "# model.add(Activation('relu'))\n",
    "# model.compile(loss='mean_squared_error', optimizer='adam')\n",
    "# ytr = y_train\n",
    "# yte = y_test\n",
    "\n",
    "# Works\n",
    "# model.add(LSTM(15, 128))\n",
    "# model.add(Dropout(0.5))\n",
    "# model.add(Dense(128, 1))\n",
    "# model.add(Activation('sigmoid'))\n",
    "# model.compile(loss='binary_crossentropy', optimizer='adam', class_mode=\"binary\")\n",
    "# ytr = [1.0 if y > 0.10 else 0.0 for y in y_train]\n",
    "# yte = [1.0 if y > 0.10 else 0.0 for y in y_test]\n",
    "\n",
    "model.add(LSTM(15, 128))\n",
    "model.add(Dropout(0.5))\n",
    "model.add(Dense(128, 2))\n",
    "model.add(Activation('softmax'))\n",
    "model.compile(loss='categorical_crossentropy', optimizer='adam')\n",
    "ytr = [[1, 0] if y > 0.10 else [0, 1] if y < -0.10 else [0, 0] for y in y_train]\n",
    "yte = [[1, 0] if y > 0.10 else [0, 1] if y < -0.10 else [0, 0] for y in y_test]"
   ]
  },
  {
   "cell_type": "code",
   "execution_count": 15,
   "metadata": {
    "collapsed": false
   },
   "outputs": [
    {
     "name": "stdout",
     "output_type": "stream",
     "text": [
      "Train...\n",
      "Train on 6444 samples, validate on 716 samples\n",
      "Epoch 0\n",
      "6444/6444 [==============================] - 18s - loss: 0.0339 - acc: 0.9794 - val_loss: 0.0282 - val_acc: 0.9832\n",
      "Epoch 1\n",
      "6444/6444 [==============================] - 19s - loss: 0.0335 - acc: 0.9812 - val_loss: 0.0283 - val_acc: 0.9832\n",
      "Epoch 2\n",
      "6444/6444 [==============================] - 21s - loss: 0.0334 - acc: 0.9812 - val_loss: 0.0283 - val_acc: 0.9832\n",
      "Epoch 3\n",
      "6444/6444 [==============================] - 21s - loss: 0.0336 - acc: 0.9812 - val_loss: 0.0283 - val_acc: 0.9832\n",
      "Epoch 4\n",
      "6444/6444 [==============================] - 18s - loss: 0.0332 - acc: 0.9812 - val_loss: 0.0283 - val_acc: 0.9832\n",
      "1829/1829 [==============================] - 0s     \n",
      "Test score: 0.0244773457691\n",
      "Test accuracy: 0.985784581739\n"
     ]
    }
   ],
   "source": [
    "print(\"Train...\")\n",
    "model.fit(X_train, ytr, batch_size=16, nb_epoch=5, validation_split=0.1, show_accuracy=True)\n",
    "# score = model.evaluate(X_test, y_test, batch_size=batch_size)\n",
    "score = model.evaluate(X_test, yte, show_accuracy=True, verbose=1)\n",
    "print('Test score:', score[0])\n",
    "print('Test accuracy:', score[1])"
   ]
  }
 ],
 "metadata": {
  "kernelspec": {
   "display_name": "Python 2",
   "language": "python",
   "name": "python2"
  },
  "language_info": {
   "codemirror_mode": {
    "name": "ipython",
    "version": 2
   },
   "file_extension": ".py",
   "mimetype": "text/x-python",
   "name": "python",
   "nbconvert_exporter": "python",
   "pygments_lexer": "ipython2",
   "version": "2.7.10"
  }
 },
 "nbformat": 4,
 "nbformat_minor": 0
}
