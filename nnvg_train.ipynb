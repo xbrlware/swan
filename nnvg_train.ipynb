{
 "cells": [
  {
   "cell_type": "markdown",
   "metadata": {},
   "source": [
    "List of RNN's in Github\n",
    "\n",
    "https://news.ycombinator.com/item?id=9283105"
   ]
  },
  {
   "cell_type": "code",
   "execution_count": 48,
   "metadata": {
    "collapsed": false
   },
   "outputs": [
    {
     "name": "stdout",
     "output_type": "stream",
     "text": [
      "test % of train 0.304182509506\n",
      "sum of first [ 0.18510069  0.30498776  0.30624264  0.26897928]\n"
     ]
    }
   ],
   "source": [
    "import numpy\n",
    "\n",
    "def norm_feature(a):\n",
    "    row_sums = a.sum(axis=1)\n",
    "    new_matrix = a / row_sums[:, numpy.newaxis]\n",
    "    return new_matrix\n",
    "\n",
    "def norm_all_features(features):\n",
    "    return numpy.array([normalize(f) for f in features])\n",
    "\n",
    "with open(\"train_test.npz\", \"rb\") as f:\n",
    "    data = numpy.load(f)\n",
    "    X_train = norm_all_features(data['X_train'])\n",
    "    y_train = data['y_train']\n",
    "    X_test = norm_all_features(data['X_test'])\n",
    "    y_test = data['y_test']\n",
    "    \n",
    "print(\"test % of train\", 1.0 * len(X_test)/len(X_train))\n",
    "print(\"sum of first\", numpy.sum(X_train[0]**2, axis=-1 ))"
   ]
  },
  {
   "cell_type": "code",
   "execution_count": 49,
   "metadata": {
    "collapsed": false
   },
   "outputs": [],
   "source": [
    "import sys\n",
    "sys.path.append(\"./keras\")\n",
    "import keras"
   ]
  },
  {
   "cell_type": "code",
   "execution_count": 50,
   "metadata": {
    "collapsed": false
   },
   "outputs": [],
   "source": [
    "from __future__ import absolute_import\n",
    "from __future__ import print_function\n",
    "import numpy as np\n",
    "import theano\n",
    "\n",
    "from keras.preprocessing import sequence\n",
    "from keras.optimizers import SGD, RMSprop, Adagrad\n",
    "from keras.utils import np_utils\n",
    "from keras.models import Sequential\n",
    "from keras.layers.core import Layer, Dense, Dropout, Activation\n",
    "from keras.layers.embeddings import Embedding\n",
    "from keras.layers.recurrent import LSTM, GRU\n",
    "from keras.datasets import imdb"
   ]
  },
  {
   "cell_type": "code",
   "execution_count": 52,
   "metadata": {
    "collapsed": false
   },
   "outputs": [],
   "source": [
    "batch_size = 8\n",
    "\n",
    "model = Sequential()\n",
    "model.add(LSTM(15, 15)) # try using a GRU instead, for fun\n",
    "model.add(Dropout(0.5))\n",
    "model.add(Dense(15, 1))\n",
    "model.add(Activation('sigmoid'))\n",
    "model.compile(loss='mean_squared_error', optimizer='adam')"
   ]
  },
  {
   "cell_type": "code",
   "execution_count": 44,
   "metadata": {
    "collapsed": false
   },
   "outputs": [
    {
     "name": "stdout",
     "output_type": "stream",
     "text": [
      "Train...\n",
      "Train on 236 samples, validate on 27 samples\n",
      "Epoch 0\n",
      "236/236 [==============================] - 0s - loss: nan - acc.: 1.0000 - val. loss: nan - val. acc.: 1.0000\n",
      "Epoch 1\n",
      "236/236 [==============================] - 0s - loss: nan - acc.: 1.0000 - val. loss: nan - val. acc.: 1.0000\n",
      "Epoch 2\n",
      "236/236 [==============================] - 0s - loss: nan - acc.: 1.0000 - val. loss: nan - val. acc.: 1.0000\n",
      "Epoch 3\n",
      "236/236 [==============================] - 0s - loss: nan - acc.: 1.0000 - val. loss: nan - val. acc.: 1.0000\n",
      "Epoch 4\n",
      "236/236 [==============================] - 0s - loss: nan - acc.: 1.0000 - val. loss: nan - val. acc.: 1.0000\n",
      "80/80 [==============================] - 0s - loss: nan - acc.: 1.0000\n",
      "Test score: nan\n",
      "Test accuracy: 1.0\n"
     ]
    }
   ],
   "source": [
    "print(\"Train...\")\n",
    "model.fit(X_train, y_train, batch_size=batch_size, nb_epoch=5, validation_split=0.1, show_accuracy=True)\n",
    "# score = model.evaluate(X_test, y_test, batch_size=batch_size)\n",
    "score = model.evaluate(X_test, y_test, show_accuracy=True, verbose=1)\n",
    "print('Test score:', score[0])\n",
    "print('Test accuracy:', score[1])"
   ]
  }
 ],
 "metadata": {
  "kernelspec": {
   "display_name": "Python 2",
   "language": "python",
   "name": "python2"
  },
  "language_info": {
   "codemirror_mode": {
    "name": "ipython",
    "version": 2
   },
   "file_extension": ".py",
   "mimetype": "text/x-python",
   "name": "python",
   "nbconvert_exporter": "python",
   "pygments_lexer": "ipython2",
   "version": "2.7.9"
  }
 },
 "nbformat": 4,
 "nbformat_minor": 0
}
