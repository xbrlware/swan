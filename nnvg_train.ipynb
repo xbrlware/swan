{
 "cells": [
  {
   "cell_type": "markdown",
   "metadata": {},
   "source": [
    "List of RNN's in Github\n",
    "\n",
    "https://news.ycombinator.com/item?id=9283105"
   ]
  },
  {
   "cell_type": "code",
   "execution_count": 1,
   "metadata": {
    "collapsed": false
   },
   "outputs": [
    {
     "name": "stderr",
     "output_type": "stream",
     "text": [
      "Using gpu device 0: GeForce GT 650M\n"
     ]
    }
   ],
   "source": [
    "from __future__ import absolute_import\n",
    "from __future__ import print_function\n",
    "import numpy\n",
    "import theano\n",
    "\n",
    "from keras.preprocessing import sequence\n",
    "from keras.optimizers import SGD, RMSprop, Adagrad\n",
    "from keras.utils import np_utils\n",
    "from keras.models import Sequential\n",
    "from keras.layers.core import Layer, Dense, Dropout, Activation\n",
    "from keras.layers.embeddings import Embedding\n",
    "from keras.layers.recurrent import LSTM, GRU\n",
    "from keras.datasets import imdb"
   ]
  },
  {
   "cell_type": "code",
   "execution_count": 2,
   "metadata": {
    "collapsed": false
   },
   "outputs": [
    {
     "name": "stdout",
     "output_type": "stream",
     "text": [
      "test % of train 0.248472222222\n",
      "sum of first [  2.00111364e+18   2.11498566e+18   2.58954010e+18   3.17995503e+18]\n"
     ]
    }
   ],
   "source": [
    "def norm_feature(a):\n",
    "    row_sums = a.sum(axis=1)\n",
    "    new_matrix = a / row_sums[:, numpy.newaxis]\n",
    "    return new_matrix\n",
    "\n",
    "def norm_all_features(features):\n",
    "    return numpy.array([norm_feature(f) for f in features])\n",
    "\n",
    "with open(\"train_test.npz\", \"rb\") as f:\n",
    "    data = numpy.load(f)\n",
    "    X_train = data['X_train']\n",
    "    y_train = data['y_train']\n",
    "    X_test = data['X_test']\n",
    "    y_test = data['y_test']\n",
    "    \n",
    "print(\"test % of train\", 1.0 * len(X_test)/len(X_train))\n",
    "print(\"sum of first\", numpy.sum(X_train[0]**2, axis=-1 ))"
   ]
  },
  {
   "cell_type": "code",
   "execution_count": 3,
   "metadata": {
    "collapsed": false
   },
   "outputs": [
    {
     "name": "stderr",
     "output_type": "stream",
     "text": [
      "/Users/rcurrie/code/swan/env/lib/python2.7/site-packages/theano/scan_module/scan_perform_ext.py:133: RuntimeWarning: numpy.ndarray size changed, may indicate binary incompatibility\n",
      "  from scan_perform.scan_perform import *\n"
     ]
    }
   ],
   "source": [
    "model = Sequential()\n",
    "\n",
    "# Works\n",
    "# model.add(LSTM(15, 15)) # try using a GRU instead, for fun\n",
    "# model.add(Dense(15, 15))\n",
    "# # model.add(Dropout(0.5))\n",
    "# model.add(Dense(15, 1))\n",
    "# model.add(Activation('relu'))\n",
    "# model.compile(loss='mean_squared_error', optimizer='adam')\n",
    "# ytr = y_train\n",
    "# yte = y_test\n",
    "\n",
    "\n",
    "model.add(LSTM(15, 128))\n",
    "model.add(Dropout(0.5))\n",
    "model.add(Dense(128, 1))\n",
    "model.add(Activation('sigmoid'))\n",
    "model.compile(loss='binary_crossentropy', optimizer='adam', class_mode=\"binary\")\n",
    "ytr = [1.0 if y > 0.10 else 0.0 for y in y_train]\n",
    "yte = [1.0 if y > 0.10 else 0.0 for y in y_test]"
   ]
  },
  {
   "cell_type": "code",
   "execution_count": 4,
   "metadata": {
    "collapsed": false
   },
   "outputs": [
    {
     "name": "stdout",
     "output_type": "stream",
     "text": [
      "Train...\n",
      "Train on 6480 samples, validate on 720 samples\n",
      "Epoch 0\n",
      "6480/6480 [==============================] - 15s - loss: 0.2651 - acc: 0.9338 - val_loss: 0.0858 - val_acc: 1.0000\n",
      "Epoch 1\n",
      "6480/6480 [==============================] - 13s - loss: 0.0567 - acc: 0.9991 - val_loss: 0.0324 - val_acc: 1.0000\n",
      "Epoch 2\n",
      "6480/6480 [==============================] - 13s - loss: 0.0271 - acc: 0.9992 - val_loss: 0.0179 - val_acc: 1.0000\n",
      "Epoch 3\n",
      "6480/6480 [==============================] - 14s - loss: 0.0194 - acc: 0.9992 - val_loss: 0.0124 - val_acc: 1.0000\n",
      "Epoch 4\n",
      "6480/6480 [==============================] - 12s - loss: 0.0167 - acc: 0.9991 - val_loss: 0.0107 - val_acc: 1.0000\n",
      "1789/1789 [==============================] - 0s     \n",
      "Test score: 0.0151920036364\n",
      "Test accuracy: 0.998323085523\n"
     ]
    }
   ],
   "source": [
    "print(\"Train...\")\n",
    "model.fit(X_train, ytr, batch_size=16, nb_epoch=5, validation_split=0.1, show_accuracy=True)\n",
    "# score = model.evaluate(X_test, y_test, batch_size=batch_size)\n",
    "score = model.evaluate(X_test, yte, show_accuracy=True, verbose=1)\n",
    "print('Test score:', score[0])\n",
    "print('Test accuracy:', score[1])"
   ]
  }
 ],
 "metadata": {
  "kernelspec": {
   "display_name": "Python 2",
   "language": "python",
   "name": "python2"
  },
  "language_info": {
   "codemirror_mode": {
    "name": "ipython",
    "version": 2
   },
   "file_extension": ".py",
   "mimetype": "text/x-python",
   "name": "python",
   "nbconvert_exporter": "python",
   "pygments_lexer": "ipython2",
   "version": "2.7.10"
  }
 },
 "nbformat": 4,
 "nbformat_minor": 0
}
