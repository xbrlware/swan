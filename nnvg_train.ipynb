{
 "cells": [
  {
   "cell_type": "code",
   "execution_count": null,
   "metadata": {
    "collapsed": true
   },
   "outputs": [],
   "source": [
    "# Whooop! Have we retained the time sequence in all this...nope! Go back to data generation"
   ]
  },
  {
   "cell_type": "code",
   "execution_count": 1,
   "metadata": {
    "collapsed": false
   },
   "outputs": [],
   "source": [
    "import numpy\n",
    "with open(\"train_test.npz\", \"rb\") as f:\n",
    "    model = numpy.load(f)\n",
    "    X_train = model['X_train']\n",
    "    y_train = model['y_train']\n",
    "    X_test = model['X_test']\n",
    "    y_test = model['y_test']"
   ]
  },
  {
   "cell_type": "code",
   "execution_count": 3,
   "metadata": {
    "collapsed": false
   },
   "outputs": [
    {
     "data": {
      "text/plain": [
       "array([[  5.71900000e+09,   1.19100000e+09,   7.83000000e+08,\n",
       "          1.12000000e+00,   1.12000000e+00,   5.10000000e-01,\n",
       "          2.60950000e+10,   9.89800000e+09,   5.31800000e+09,\n",
       "          2.59600000e+09,   1.12210000e+10,   2.16100000e+09,\n",
       "         -3.75000000e+08,  -1.12700000e+09,   6.01000000e+01]])"
      ]
     },
     "execution_count": 3,
     "metadata": {},
     "output_type": "execute_result"
    }
   ],
   "source": [
    "len(X_train)\n",
    "X_train[0:1]"
   ]
  },
  {
   "cell_type": "code",
   "execution_count": null,
   "metadata": {
    "collapsed": true
   },
   "outputs": [],
   "source": []
  }
 ],
 "metadata": {
  "kernelspec": {
   "display_name": "Python 2",
   "language": "python",
   "name": "python2"
  },
  "language_info": {
   "codemirror_mode": {
    "name": "ipython",
    "version": 2
   },
   "file_extension": ".py",
   "mimetype": "text/x-python",
   "name": "python",
   "nbconvert_exporter": "python",
   "pygments_lexer": "ipython2",
   "version": "2.7.9"
  }
 },
 "nbformat": 4,
 "nbformat_minor": 0
}
