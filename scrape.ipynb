{
 "cells": [
  {
   "cell_type": "code",
   "execution_count": 3,
   "metadata": {
    "collapsed": false
   },
   "outputs": [],
   "source": [
    "\"\"\"\n",
    "Scrape edgar for all the xbrl filings from one company, extract all of \n",
    "the facts accross all the filings and output a unified set of facts by \n",
    "instant and period.\n",
    "\"\"\"\n",
    "import os, re\n",
    "from itertools import groupby\n",
    "import requests, requests_cache\n",
    "from bs4 import BeautifulSoup"
   ]
  },
  {
   "cell_type": "code",
   "execution_count": 79,
   "metadata": {
    "collapsed": false
   },
   "outputs": [
    {
     "name": "stdout",
     "output_type": "stream",
     "text": [
      "Found 24 filings for AAPL\n"
     ]
    }
   ],
   "source": [
    "def download_filings(ticker, kind=\"10\"):\n",
    "    \"\"\" Download the text of all the edgar filings for ticker \"\"\"\n",
    "    requests_cache.install_cache(\"/data/swan/%s\" % ticker)\n",
    "    edgar_search_url = \"http://www.sec.gov/cgi-bin/browse-edgar?action=getcompany&type={0}&output=atom&CIK={1}&count=100&start=0\"\n",
    "    edgar_search_url = edgar_search_url.format(kind, ticker)\n",
    "    entries = BeautifulSoup(requests.get(edgar_search_url).text).find_all('entry')\n",
    "    page_urls = [entry.find('filing-href').text for entry in entries if entry.find('xbrl_href')]\n",
    "    pages = [requests.get(url).text for url in page_urls]\n",
    "    regex = re.compile(\"href=\\\"(.*xml)\\\"\")\n",
    "    urls = [\"http://www.sec.gov{0}\".format(regex.findall(p)[0]) for p in pages]\n",
    "    filings = [requests.get(url).text for url in urls]\n",
    "    print \"Found\", len(filings), \"filings for\", ticker\n",
    "    return filings\n",
    "    \n",
    "if __name__ == \"__main__\":\n",
    "    ticker = 'AAPL'\n",
    "    filings = download_filings(ticker)\n"
   ]
  },
  {
   "cell_type": "code",
   "execution_count": 80,
   "metadata": {
    "collapsed": false
   },
   "outputs": [
    {
     "name": "stdout",
     "output_type": "stream",
     "text": [
      "Found 24 dates\n",
      "Found 24 dates\n",
      "Found 24 dates\n",
      "Found 24 dates\n",
      "Found 24 dates\n",
      "Found 24 dates\n",
      "Found 24 dates\n",
      "Found 24 dates\n",
      "Found 24 dates\n",
      "Found 24 dates\n",
      "Found 24 dates\n",
      "Found 24 dates\n",
      "Found 24 dates\n",
      "Found 24 dates\n",
      "Found 24 dates\n",
      "Found 24 dates\n",
      "Found 24 dates\n",
      "Found 24 dates\n",
      "Found 24 dates\n",
      "Found 24 dates\n",
      "Found 24 dates\n",
      "Found 24 dates\n",
      "Found 24 dates\n",
      "Found 24 dates\n"
     ]
    }
   ],
   "source": [
    "def get_dates_and_instants(filing_soup):\n",
    "    \"\"\" Return all the unique dates and a list of instants for each of them. \"\"\"\n",
    "    instants = [c for c in filing_soup(\"context\") if c(\"instant\")]\n",
    "    unique_instants = [(k, [i.attrs['id'] for i in list(v)]) for k, v in groupby(instants, lambda x: x.period.instant.text)]\n",
    "    return unique_instants\n",
    "    \n",
    "if __name__ == \"__main__\":\n",
    "    all_dates = [get_dates_and_instants(BeautifulSoup(f)) for f in filings]"
   ]
  },
  {
   "cell_type": "code",
   "execution_count": 74,
   "metadata": {
    "collapsed": false
   },
   "outputs": [
    {
     "name": "stdout",
     "output_type": "stream",
     "text": [
      "Found 919 facts\n"
     ]
    }
   ],
   "source": [
    "def extract_gaap_facts(dates_instants, filing_soup):\n",
    "    \"\"\" Return a list of (date, xbrl fact tag, value) for the given filing \"\"\"\n",
    "    try:\n",
    "        for instant in dates_instants:\n",
    "            for context in instant[1]:\n",
    "                for e in filing_soup.find_all(contextref=re.compile(context)):\n",
    "                    if  \"xsi:nil\" not in e.attrs and e.name.startswith(\"us-gaap\"):\n",
    "                        yield((instant[0], e.name, float(e.contents[0])))\n",
    "    except:\n",
    "        print \"Problem extracting gaap facts\"\n",
    "                    \n",
    "if __name__ == \"__main__\":\n",
    "    soup = BeautifulSoup(filings[0])\n",
    "    dates_instants = get_dates_and_instants(soup)\n",
    "    gaap_facts = extract_gaap_facts(dates_instants, soup)\n",
    "    facts = [f for f in gaap_facts]\n",
    "    print \"Found\", len(facts), \"facts\"    "
   ]
  },
  {
   "cell_type": "code",
   "execution_count": 78,
   "metadata": {
    "collapsed": false
   },
   "outputs": [
    {
     "data": {
      "text/plain": [
       "(u'2014-09-27',\n",
       " 'us-gaap:debtinstrumentinterestrateeffectivepercentage',\n",
       " 0.0079)"
      ]
     },
     "execution_count": 78,
     "metadata": {},
     "output_type": "execute_result"
    }
   ],
   "source": [
    "facts[3]"
   ]
  },
  {
   "cell_type": "code",
   "execution_count": 75,
   "metadata": {
    "collapsed": false
   },
   "outputs": [
    {
     "name": "stdout",
     "output_type": "stream",
     "text": [
      "['http://www.sec.gov/Archives/edgar/data/320193/000119312515023697/aapl-20141227.xml', 'http://www.sec.gov/Archives/edgar/data/320193/000119312514383437/aapl-20140927.xml', 'http://www.sec.gov/Archives/edgar/data/320193/000119312514277160/aapl-20140628.xml', 'http://www.sec.gov/Archives/edgar/data/320193/000119312514157311/aapl-20140329.xml', 'http://www.sec.gov/Archives/edgar/data/320193/000119312514024487/aapl-20131228.xml', 'http://www.sec.gov/Archives/edgar/data/320193/000119312513416534/aapl-20130928.xml', 'http://www.sec.gov/Archives/edgar/data/320193/000119312513300670/aapl-20130629.xml', 'http://www.sec.gov/Archives/edgar/data/320193/000119312513168288/aapl-20130330.xml', 'http://www.sec.gov/Archives/edgar/data/320193/000119312513022339/aapl-20121229.xml', 'http://www.sec.gov/Archives/edgar/data/320193/000119312512444068/aapl-20120929.xml', 'http://www.sec.gov/Archives/edgar/data/320193/000119312512314552/aapl-20120630.xml', 'http://www.sec.gov/Archives/edgar/data/320193/000119312512182321/aapl-20120331.xml', 'http://www.sec.gov/Archives/edgar/data/320193/000119312512023398/aapl-20111231.xml', 'http://www.sec.gov/Archives/edgar/data/320193/000119312511282113/aapl-20110924.xml', 'http://www.sec.gov/Archives/edgar/data/320193/000119312511192493/aapl-20110625.xml', 'http://www.sec.gov/Archives/edgar/data/320193/000119312511104388/aapl-20110326.xml', 'http://www.sec.gov/Archives/edgar/data/320193/000119312511010144/aapl-20101225.xml', 'http://www.sec.gov/Archives/edgar/data/320193/000119312510238044/aapl-20100925.xml', 'http://www.sec.gov/Archives/edgar/data/320193/000119312510162840/aapl-20100626.xml', 'http://www.sec.gov/Archives/edgar/data/320193/000119312510088957/aapl-20100327.xml', 'http://www.sec.gov/Archives/edgar/data/320193/000119312510012091/aapl-20090926.xml', 'http://www.sec.gov/Archives/edgar/data/320193/000119312510012085/aapl-20091226.xml', 'http://www.sec.gov/Archives/edgar/data/320193/000119312509214859/aapl-20090926.xml', 'http://www.sec.gov/Archives/edgar/data/320193/000119312509153165/aapl-20090627.xml']\n",
      "Found 12616 all_facts\n"
     ]
    }
   ],
   "source": [
    "def get_all_facts(ticker):\n",
    "    \"\"\" Return a list of (date, fact tag, value) for every filing for the given ticker \"\"\"\n",
    "    soups = [BeautifulSoup(f) for f in download_filings(ticker)]    \n",
    "    facts = [[f for f in extract_gaap_facts(get_dates_and_instants(s), s)] for s in soups]\n",
    "    return [item for sublist in facts for item in sublist]\n",
    "    \n",
    "if __name__ == \"__main__\":\n",
    "    all_facts = get_all_facts(ticker)\n",
    "    print \"Found\", len(all_facts), \"all_facts\""
   ]
  },
  {
   "cell_type": "code",
   "execution_count": 96,
   "metadata": {
    "collapsed": false
   },
   "outputs": [],
   "source": [
    "groups = [f for f in groupby(all_facts, lambda x: x[1])]"
   ]
  },
  {
   "cell_type": "code",
   "execution_count": 115,
   "metadata": {
    "collapsed": false
   },
   "outputs": [
    {
     "data": {
      "text/plain": [
       "[(u'2012-12-31', u'us-gaap:operatinglosscarryforwards', 333000000.0),\n",
       " (u'2012-12-31', u'us-gaap:operatinglosscarryforwards', 1048000000.0),\n",
       " (u'2012-12-31', u'us-gaap:operatinglosscarryforwards', 384000000.0),\n",
       " (u'2012-12-31',\n",
       "  u'us-gaap:futureminimumsubleaserentalssaleleasebacktransactions',\n",
       "  22000000.0),\n",
       " (u'2012-12-31',\n",
       "  u'us-gaap:operatingleasesfutureminimumpaymentsdue',\n",
       "  475000000.0),\n",
       " (u'2012-12-31',\n",
       "  u'us-gaap:futureminimumsubleaserentalssaleleasebacktransactions',\n",
       "  1000000.0),\n",
       " (u'2012-12-31',\n",
       "  u'us-gaap:operatingleasesfutureminimumpaymentsdue',\n",
       "  1596000000.0),\n",
       " (u'2012-12-31',\n",
       "  u'us-gaap:futureminimumsubleaserentalssaleleasebacktransactions',\n",
       "  26000000.0),\n",
       " (u'2012-12-31',\n",
       "  u'us-gaap:operatingleasesfutureminimumpaymentsdue',\n",
       "  492000000.0),\n",
       " (u'2012-12-31',\n",
       "  u'us-gaap:futureminimumsubleaserentalssaleleasebacktransactions',\n",
       "  17000000.0)]"
      ]
     },
     "execution_count": 115,
     "metadata": {},
     "output_type": "execute_result"
    }
   ],
   "source": [
    "all_facts[0:10]"
   ]
  },
  {
   "cell_type": "code",
   "execution_count": 25,
   "metadata": {
    "collapsed": false
   },
   "outputs": [
    {
     "name": "stdout",
     "output_type": "stream",
     "text": [
      "Found 500 tickers\n",
      "['MMM', 'ABT', 'ABBV', 'ANF', 'ACN', 'ACE', 'ACT', 'ADBE', 'AMD', 'AES']\n"
     ]
    }
   ],
   "source": [
    "def get_sp500_tickers():\n",
    "    import csv\n",
    "    with open('sp500.csv', 'rU') as f:\n",
    "        reader = csv.reader(f)\n",
    "        return [r[1] for r in reader]\n",
    "\n",
    "if __name__ == \"__main__\":\n",
    "    tickers = get_sp500_tickers()\n",
    "    print \"Found\", len(tickers), \"tickers\"\n",
    "    print tickers[0:10]"
   ]
  },
  {
   "cell_type": "code",
   "execution_count": 34,
   "metadata": {
    "collapsed": false
   },
   "outputs": [
    {
     "name": "stdout",
     "output_type": "stream",
     "text": [
      "Found 23 filings for MMM\n",
      "Found 23 filings for ABT\n",
      "Found 8 filings for ABBV\n",
      "Found 19 filings for ANF\n",
      "Found 21 filings for ACN\n",
      "Found 23 filings for ACE\n",
      "Found 14 filings for ACT\n",
      "Found 23 filings for ADBE\n",
      "Found 19 filings for AMD\n",
      "Found 23 filings for AES\n"
     ]
    }
   ],
   "source": [
    "for t in tickers[0:10]:\n",
    "    filings = download_filings(t)\n",
    "    print \"Found\", len(filings), \"filings for\", t\n",
    "#     filing_soup = BeautifulSoup(filings[0])\n",
    "#     dates_instants = get_dates_and_instants(filing_soup)\n",
    "    # facts = extract_gaap_facts(filing_soup, )"
   ]
  },
  {
   "cell_type": "code",
   "execution_count": 46,
   "metadata": {
    "collapsed": false
   },
   "outputs": [
    {
     "data": {
      "text/plain": [
       "[0, 0, 0, 0, 0, 0, 0, 0, 0, 0, 0, 0, 0, 0, 0, 40, 69, 41, 32, 38, 14, 37, 5]"
      ]
     },
     "execution_count": 46,
     "metadata": {},
     "output_type": "execute_result"
    }
   ],
   "source": [
    "[len(get_dates_and_instants(BeautifulSoup(f))) for f in filings]"
   ]
  },
  {
   "cell_type": "code",
   "execution_count": null,
   "metadata": {
    "collapsed": false
   },
   "outputs": [],
   "source": []
  }
 ],
 "metadata": {
  "kernelspec": {
   "display_name": "Python 2",
   "language": "python",
   "name": "python2"
  },
  "language_info": {
   "codemirror_mode": {
    "name": "ipython",
    "version": 2
   },
   "file_extension": ".py",
   "mimetype": "text/x-python",
   "name": "python",
   "nbconvert_exporter": "python",
   "pygments_lexer": "ipython2",
   "version": "2.7.6"
  }
 },
 "nbformat": 4,
 "nbformat_minor": 0
}
