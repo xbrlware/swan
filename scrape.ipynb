{
 "metadata": {
  "name": ""
 },
 "nbformat": 3,
 "nbformat_minor": 0,
 "worksheets": [
  {
   "cells": [
    {
     "cell_type": "raw",
     "metadata": {},
     "source": [
      "Scrape edgar for all the xbrl filings from one company, extract all of the facts accross all the filings and output a unified set of facts by instant and period."
     ]
    },
    {
     "cell_type": "code",
     "collapsed": false,
     "input": [
      "import os, re\n",
      "from itertools import groupby\n",
      "import requests, requests_cache\n",
      "from bs4 import BeautifulSoup"
     ],
     "language": "python",
     "metadata": {},
     "outputs": [],
     "prompt_number": 101
    },
    {
     "cell_type": "code",
     "collapsed": false,
     "input": [
      "ticker = 'AAPL'\n",
      "requests_cache.install_cache(\"/Users/rcurrie/data/swan/%s\" % ticker)"
     ],
     "language": "python",
     "metadata": {},
     "outputs": [],
     "prompt_number": 102
    },
    {
     "cell_type": "raw",
     "metadata": {},
     "source": [
      "Get all of the xbrl filings from edgar"
     ]
    },
    {
     "cell_type": "code",
     "collapsed": false,
     "input": [
      "edgar_search_url = \"http://www.sec.gov/cgi-bin/browse-edgar?action=getcompany&type={0}&output=atom&CIK={1}&count=100&start=0\"\n",
      "entries = BeautifulSoup(requests.get(edgar_search_url.format(\"10\", ticker)).text).find_all('entry')\n",
      "page_urls = [entry.find('filing-href').text for entry in entries if entry.find('xbrl_href')]\n",
      "pages = [requests.get(url).text for url in page_urls]\n",
      "regex = re.compile(\"href=\\\"(.*xml)\\\"\")\n",
      "urls = [\"http://www.sec.gov{0}\".format(regex.findall(p)[0]) for p in pages]\n",
      "filings = [requests.get(url).text for url in urls]"
     ],
     "language": "python",
     "metadata": {},
     "outputs": [],
     "prompt_number": 124
    },
    {
     "cell_type": "raw",
     "metadata": {},
     "source": [
      "Extract and unify the facts by instant from each filing"
     ]
    },
    {
     "cell_type": "code",
     "collapsed": false,
     "input": [
      "xbrl = filings[0]\n",
      "s = BeautifulSoup(xbrl)\n",
      "instants = [c for c in s(\"context\") if c(\"instant\")]\n",
      "unique_instants = [(k, [i.attrs['id'] for i in list(v)]) for k, v in groupby(instants, lambda x: x.period.instant.text)]\n",
      "\n",
      "# [((i[0], s.find_all(contextref=re.compile(c))) for c in i[1]) for i in unique_instants]\n",
      "\n",
      "instant_entities = [((i[0], [e for e in s.find_all(contextref=re.compile(c))]) for c in i[1]) for i in unique_instants]\n",
      "\n",
      "# instant_entities = [(i[0], [e for e in s.find_all(contextref=re.compile(str(c))) for c in i[1]]) for i in unique_instants]\n",
      "# instant_facts = [(i[0], list(set([(f.name, f.string) for f in i[1]]))) for i in instant_entities]"
     ],
     "language": "python",
     "metadata": {},
     "outputs": [],
     "prompt_number": 357
    },
    {
     "cell_type": "code",
     "collapsed": false,
     "input": [
      "((i[0], c) for c in i[1]) for i in unique_instants\n",
      "\n",
      "# for i in unique_instants:\n",
      "#     print \"Date\", i[0]\n",
      "#     for c in i[1][0:1]:\n",
      "#         for e in s.find_all(contextref=re.compile(c)):\n",
      "#             print e.name, e.string"
     ],
     "language": "python",
     "metadata": {},
     "outputs": [
      {
       "ename": "SyntaxError",
       "evalue": "invalid syntax (<ipython-input-391-0a4ba04d3391>, line 1)",
       "output_type": "pyerr",
       "traceback": [
        "\u001b[0;36m  File \u001b[0;32m\"<ipython-input-391-0a4ba04d3391>\"\u001b[0;36m, line \u001b[0;32m1\u001b[0m\n\u001b[0;31m    ((i[0], c) for c in i[1]) for i in unique_instants\u001b[0m\n\u001b[0m                                ^\u001b[0m\n\u001b[0;31mSyntaxError\u001b[0m\u001b[0;31m:\u001b[0m invalid syntax\n"
       ]
      }
     ],
     "prompt_number": 391
    },
    {
     "cell_type": "code",
     "collapsed": false,
     "input": [
      "for i in unique_instants:\n",
      "    print \"Date\", i[0]\n",
      "    for c in i[1][0:1]:\n",
      "        for e in s.find_all(contextref=re.compile(c)):\n",
      "            print e.name, e.string"
     ],
     "language": "python",
     "metadata": {},
     "outputs": [
      {
       "output_type": "stream",
       "stream": "stdout",
       "text": [
        "Date 2013-10-18\n",
        "dei:entitycommonstocksharesoutstanding"
       ]
      },
      {
       "output_type": "stream",
       "stream": "stdout",
       "text": [
        " 899738000\n",
        "Date 2012-09-29\n",
        "us-gaap:availableforsalesecuritiescurrent"
       ]
      },
      {
       "output_type": "stream",
       "stream": "stdout",
       "text": [
        " 0\n",
        "us-gaap:availableforsalesecuritiesnoncurrent 0\n",
        "us-gaap:availableforsalesecuritiesamortizedcost 3109000000\n",
        "us-gaap:cashandcashequivalentsatcarryingvalue 3109000000\n",
        "us-gaap:availableforsalesecurities 3109000000\n",
        "aapl:availableforsalesecuritiesgrossunrealizedgainaccumulatedininvestments 0\n",
        "aapl:availableforsalesecuritiesgrossunrealizedlossaccumulatedininvestments 0\n",
        "Date 2013-03-29\n",
        "dei:entitypublicfloat"
       ]
      },
      {
       "output_type": "stream",
       "stream": "stdout",
       "text": [
        " 416005000000\n",
        "Date 2013-03-01\n",
        "aapl:resultoflegalproceedingsawardupheld"
       ]
      },
      {
       "output_type": "stream",
       "stream": "stdout",
       "text": [
        " 599000000\n",
        "Date 2013-09-28\n",
        "us-gaap:availableforsalesecuritiescurrent"
       ]
      },
      {
       "output_type": "stream",
       "stream": "stdout",
       "text": [
        " 0\n",
        "us-gaap:availableforsalesecuritiesnoncurrent 0\n",
        "us-gaap:availableforsalesecuritiesamortizedcost 8705000000\n",
        "us-gaap:cashandcashequivalentsatcarryingvalue 8705000000\n",
        "us-gaap:availableforsalesecurities 8705000000\n",
        "aapl:availableforsalesecuritiesgrossunrealizedgainaccumulatedininvestments 0\n",
        "aapl:availableforsalesecuritiesgrossunrealizedlossaccumulatedininvestments 0\n",
        "Date 2012-11-06\n",
        "aapl:resultsoflegalproceedingsawardeddamages"
       ]
      },
      {
       "output_type": "stream",
       "stream": "stdout",
       "text": [
        " -368000000\n",
        "Date 2012-08-24\n",
        "aapl:resultoflegalproceedings"
       ]
      },
      {
       "output_type": "stream",
       "stream": "stdout",
       "text": [
        " 1050000000\n",
        "Date 2011-09-24\n",
        "aapl:estimatedlifeofrelatedhardwaredevice"
       ]
      },
      {
       "output_type": "stream",
       "stream": "stdout",
       "text": [
        " P4Y\n",
        "Date 2010-09-25\n",
        "us-gaap:stockholdersequity"
       ]
      },
      {
       "output_type": "stream",
       "stream": "stdout",
       "text": [
        " -46000000\n"
       ]
      }
     ],
     "prompt_number": 387
    },
    {
     "cell_type": "code",
     "collapsed": false,
     "input": [],
     "language": "python",
     "metadata": {},
     "outputs": [],
     "prompt_number": 384
    }
   ],
   "metadata": {}
  }
 ]
}