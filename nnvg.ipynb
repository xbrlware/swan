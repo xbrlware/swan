{
 "cells": [
  {
   "cell_type": "markdown",
   "metadata": {},
   "source": [
    "# Neural Net vs. Goldman\n",
    "Can an LSTM neural net trained on fundamentals extracted from edgar XBRL pick the same long and short list as Goldman's hedgefund meta list"
   ]
  },
  {
   "cell_type": "markdown",
   "metadata": {},
   "source": [
    "## Data Sources\n",
    "Download price and fundamental data using [pystock-crawler](https://github.com/eliangcs/pystock-crawler):  \n",
    "\n",
    "```\n",
    "pystock-crawler symbols NYSE,NASDAQ,AMEX --sort -w data -o data/symbols.csv -l data/symbols.log\n",
    "pystock-crawler reports data/symbols.csv -w data -o data/reports.csv -l data/reports.log\n",
    "pystock-crawler prices data/symbols.csv -w data -o data/prices.csv -l data/prices.log\n",
    "```"
   ]
  },
  {
   "cell_type": "code",
   "execution_count": 174,
   "metadata": {
    "collapsed": false
   },
   "outputs": [
    {
     "name": "stdout",
     "output_type": "stream",
     "text": [
      " Found 4514 symbols in reports and 6103 symbols in prices\n"
     ]
    }
   ],
   "source": [
    "import numpy as np\n",
    "import pandas\n",
    "reports = pandas.read_csv('data/reports.csv', parse_dates=['end_date'], index_col=1).sort(ascending=True).groupby('symbol')\n",
    "prices = pandas.read_csv('data/prices.csv', parse_dates=['date'], index_col=1).sort(ascending=True).groupby('symbol')\n",
    "print \"Found\", len(reports), \"symbols in reports and\", len(prices), \"symbols in prices\""
   ]
  },
  {
   "cell_type": "code",
   "execution_count": 266,
   "metadata": {
    "collapsed": false
   },
   "outputs": [
    {
     "name": "stdout",
     "output_type": "stream",
     "text": [
      "\n"
     ]
    }
   ],
   "source": [
    "import sys\n",
    "\n",
    "def norm(a):\n",
    "    return a.astype(np.float32) / a.sum()\n",
    "\n",
    "def features(symbol, reports, prices, window_size=4, overlap=1, start_days=1, end_days=5, pct_threshold=0.10):\n",
    "    \"\"\"\n",
    "    Return an X vector consisting a time series of finanical metric vectors\n",
    "    for the given stock split into multiple normalized overlapping windows \n",
    "    and y % change in the stock price from start to end days after \n",
    "    the last report in the window.\n",
    "    \"\"\"\n",
    "    r = reports.get_group(symbol).copy() # We're going to modify columns so need to copy\n",
    "    p = prices.get_group(symbol)         # no modifications\n",
    "    \n",
    "    print \"\\r{}:{}\".format(symbol, len(r)),\n",
    "    sys.stdout.flush()\n",
    "    \n",
    "    if len(r) < window_size:\n",
    "        raise ValueError(\"{} only has {} reports\".format(symbol, len(r)))\n",
    "        \n",
    "    if len(p) < window_size + start_days + end_days:\n",
    "        raise ValueError(\"{} only has {} prices\".format(symbol, len(p)))\n",
    "\n",
    "    # Add adjusted closing price start and end days after the report\n",
    "    r['start'] = r.index.map(lambda x: p.ix[p.index[p.index.searchsorted(x, side='right') + start_days]]['adj_close'])\n",
    "    r['end'] = r.index.map(lambda x: p.ix[p.index[p.index.searchsorted(x, side='right') + end_days]]['adj_close'])\n",
    "\n",
    "    # Fixup annual 10-k numbers by subtracting the prior 3 quarters\n",
    "    # REMIND: Go back and verify the adjustments\n",
    "    for c in ['revenues', 'op_income', 'net_income',\n",
    "     'eps_basic', 'eps_diluted', 'dividend',\n",
    "     'cash_flow_op', 'cash_flow_inv', u'cash_flow_fin']:\n",
    "        r[c + '_adj'] = r[c] - r[c].shift(1) - r[c].shift(2) - r[c].shift(3)\n",
    "        r.ix[r.period_focus == 'FY', c] = r[r.period_focus == 'FY'][c + '_adj']\n",
    "    \n",
    "    # Delete all non-numeric columns\n",
    "    r = r.ix[:,5:-9]\n",
    "        \n",
    "    # Change any nan to -1\n",
    "    r.fillna(-1, inplace=True)\n",
    "    \n",
    "    # Divide into overlapping windows\n",
    "    num_windows = len(r) - window_size + 1\n",
    "    X = [r[i:i + window_size] for i in range(len(r) - window_size + 1 - num_windows,len(r) - window_size + 1, overlap)]\n",
    "\n",
    "    # Calculate +/- % change in stock price n days after the last report in the window\n",
    "    y = [(x.end[-1] / x.start[-1]) - 1 for x in X]\n",
    "                \n",
    "    # Return X with the end price redacted so we don't train on the answer!\n",
    "    return [norm(x.values[:,0:-1]) for x in X], y"
   ]
  },
  {
   "cell_type": "code",
   "execution_count": 271,
   "metadata": {
    "collapsed": false
   },
   "outputs": [
    {
     "name": "stdout",
     "output_type": "stream",
     "text": [
      "ISDR:25 Unknown problem with AGL\n",
      "GTIM:19 Unknown problem with NYB\n",
      "NRCIB:2 Problems with NRCIB NRCIB only has 2 reports\n",
      "Unknown problem with SPX\n",
      "BWA:25 Unknown problem with BWC\n",
      "SPN:21 Unknown problem with BSDM\n",
      "MEIL:1 Problems with MEIL MEIL only has 1 reports\n",
      "EARN:10 Unknown problem with GY\n",
      "MXPT:2 Problems with MXPT MXPT only has 2 reports\n",
      "Unknown problem with HANS\n",
      "GI:1 Problems with GI GI only has 1 reports\n",
      "ACLS:17 Unknown problem with AMCH\n",
      "JBSS:16 Unknown problem with VIGS\n",
      "BEL:3 Problems with BEL BEL only has 3 reports\n",
      "IRG:13 Unknown problem with NTKS\n",
      "GPIAU:2 Problems with GPIAU GPIAU only has 2 reports\n",
      "VLY:22 Unknown problem with ICMC\n"
     ]
    }
   ],
   "source": [
    "def compute_all_features(reports, prices):\n",
    "    for s in reports.groups.keys()[0:100]:\n",
    "        try:\n",
    "            yield s, features(s, reports, prices)\n",
    "        except ValueError as e:\n",
    "            print \"Problems with {} {}\".format(s, e)\n",
    "        except:\n",
    "            print \"Unknown problem with {}\".format(s)\n",
    "            \n",
    "data = {s: f for s,f in compute_all_features(reports, prices)}"
   ]
  },
  {
   "cell_type": "code",
   "execution_count": 285,
   "metadata": {
    "collapsed": false
   },
   "outputs": [
    {
     "name": "stdout",
     "output_type": "stream",
     "text": [
      "Done\n"
     ]
    }
   ],
   "source": [
    "import multiprocessing as mp\n",
    "\n",
    "def call_features(data):\n",
    "    return features(data[0], data[1], data[2])\n",
    "\n",
    "pool = mp.Pool(processes=4)\n",
    "results = pool.map(cube, range(1,10000000))\n",
    "print \"Done\""
   ]
  },
  {
   "cell_type": "code",
   "execution_count": 259,
   "metadata": {
    "collapsed": false
   },
   "outputs": [],
   "source": [
    "# Check that window columns are equal ie 2nd time slice is equal to 1st in successive\n",
    "# s = reports.groups.keys()[0]\n",
    "# assert(np.array_equal(data[s][0][0][1], data[s][0][1][0]))\n",
    "# Can't do this anymore because we normalized within a window\n",
    "for k, v in data.iteritems():\n",
    "    for l in v[0]:\n",
    "        assert l.shape == (4, 15)\n",
    "        assert (l.sum() - 1.0) < 0.001\n",
    "#     print k, np.max(v[1]), np.min(v[1])"
   ]
  },
  {
   "cell_type": "code",
   "execution_count": 258,
   "metadata": {
    "collapsed": false
   },
   "outputs": [
    {
     "name": "stdout",
     "output_type": "stream",
     "text": [
      "num train symbols: 66 num test symbols: 17\n",
      "test/train % 0.257575757576\n",
      "stock change min/max -0.138187264082/0.133333285848\n"
     ]
    }
   ],
   "source": [
    "# Split into train/test sets\n",
    "# Should use sklearn.cross_validation.StratifiedShuffleSplit to try and maintain industry sector % in each\n",
    "# Or bin by financial size http://www.gregreda.com/2013/10/26/using-pandas-on-the-movielens-dataset/\n",
    "# s = XY['symbol'].unique()\n",
    "from sklearn.cross_validation import train_test_split\n",
    "train_symbols, test_symbols = train_test_split(data.keys(), test_size = 0.20)\n",
    "print \"num train symbols:\", len(train_symbols), \"num test symbols:\", len(test_symbols)\n",
    "X_train = [data[s][0] for s in train_symbols]\n",
    "y_train = [data[s][1] for s in train_symbols]\n",
    "X_test = [data[s][0] for s in test_symbols]\n",
    "y_test = [data[s][1] for s in test_symbols]\n",
    "print \"test/train %\", 1.0 * len(X_test)/len(X_train)\n",
    "print \"stock change min/max {}/{}\".format(np.min(np.min(y_train)), np.max(np.max(y_train)))"
   ]
  },
  {
   "cell_type": "code",
   "execution_count": 223,
   "metadata": {
    "collapsed": false
   },
   "outputs": [],
   "source": [
    "def flatten(l):\n",
    "    return [item for sublist in l for item in sublist]\n",
    "\n",
    "import numpy\n",
    "with open(\"train_test.npz\", \"wb\") as f:\n",
    "    numpy.savez(f, X_train=flatten(X_train), y_train=flatten(y_train), \n",
    "                X_test=flatten(X_test), y_test=flatten(y_test))"
   ]
  }
 ],
 "metadata": {
  "kernelspec": {
   "display_name": "Python 2",
   "language": "python",
   "name": "python2"
  },
  "language_info": {
   "codemirror_mode": {
    "name": "ipython",
    "version": 2
   },
   "file_extension": ".py",
   "mimetype": "text/x-python",
   "name": "python",
   "nbconvert_exporter": "python",
   "pygments_lexer": "ipython2",
   "version": "2.7.6"
  }
 },
 "nbformat": 4,
 "nbformat_minor": 0
}
