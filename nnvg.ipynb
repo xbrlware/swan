{
 "cells": [
  {
   "cell_type": "markdown",
   "metadata": {},
   "source": [
    "# Neural Net vs. Goldman\n",
    "Can an LTSM Neural Net trained on fundamentals extracted from edgar XBRL from the S&P500 pick the same long and short list as Goldman's hedgefund meta list (appologies to my high school english teacher for the run on sentence)"
   ]
  },
  {
   "cell_type": "markdown",
   "metadata": {},
   "source": [
    "## Data Sources\n",
    "Download price and fundamental data for the S&P 500 using [pystock-crawler](https://github.com/eliangcs/pystock-crawler):  \n",
    "\n",
    "`pystock-crawler reports ../tickers.csv -o ../reports.csv ../reports.log`  \n",
    "`pystock-crawler prices ../tickers.csv -o ../prices.csv -l ../prices.log`\n",
    "\n",
    "REMIND: Use pystock-crawler symbols to get symbols for training input...\n",
    "\n",
    "X = 4 quarters of fundamental data and whether stock was up or down from the prior quarter y = whether the stock was up or down x days after the period that X was comprised of"
   ]
  },
  {
   "cell_type": "code",
   "execution_count": 1,
   "metadata": {
    "collapsed": false
   },
   "outputs": [],
   "source": [
    "import pandas\n",
    "prices = pandas.read_csv('prices.csv', parse_dates=['date'], index_col=1)\n",
    "reports = pandas.read_csv('reports.csv', parse_dates=['date'], index_col=1)\n",
    "symbols = pandas.read_csv('symbols.csv')"
   ]
  },
  {
   "cell_type": "code",
   "execution_count": 2,
   "metadata": {
    "collapsed": false
   },
   "outputs": [
    {
     "name": "stdout",
     "output_type": "stream",
     "text": [
      "Problems parsing DISCK\n",
      "Found 474 symbols\n"
     ]
    },
    {
     "data": {
      "text/html": [
       "<div style=\"max-height:1000px;max-width:1500px;overflow:auto;\">\n",
       "<table border=\"1\" class=\"dataframe\">\n",
       "  <thead>\n",
       "    <tr style=\"text-align: right;\">\n",
       "      <th></th>\n",
       "      <th>symbol</th>\n",
       "      <th>amend</th>\n",
       "      <th>period_focus</th>\n",
       "      <th>fiscal_year</th>\n",
       "      <th>doc_type</th>\n",
       "      <th>revenues</th>\n",
       "      <th>op_income</th>\n",
       "      <th>net_income</th>\n",
       "      <th>eps_basic</th>\n",
       "      <th>eps_diluted</th>\n",
       "      <th>...</th>\n",
       "      <th>assets</th>\n",
       "      <th>cur_assets</th>\n",
       "      <th>cur_liab</th>\n",
       "      <th>cash</th>\n",
       "      <th>equity</th>\n",
       "      <th>cash_flow_op</th>\n",
       "      <th>cash_flow_inv</th>\n",
       "      <th>cash_flow_fin</th>\n",
       "      <th>close</th>\n",
       "      <th>delta</th>\n",
       "    </tr>\n",
       "  </thead>\n",
       "  <tbody>\n",
       "    <tr>\n",
       "      <th>2009-06-30</th>\n",
       "      <td>MMM</td>\n",
       "      <td>False</td>\n",
       "      <td>Q2</td>\n",
       "      <td>2009</td>\n",
       "      <td>10-Q</td>\n",
       "      <td>5719000000</td>\n",
       "      <td>1191000000</td>\n",
       "      <td>783000000</td>\n",
       "      <td>1.12</td>\n",
       "      <td>1.12</td>\n",
       "      <td>...</td>\n",
       "      <td>26095000000</td>\n",
       "      <td>9898000000</td>\n",
       "      <td>5318000000</td>\n",
       "      <td>2596000000</td>\n",
       "      <td>11221000000</td>\n",
       "      <td>2161000000</td>\n",
       "      <td>-375000000</td>\n",
       "      <td>-1127000000</td>\n",
       "      <td>60.10</td>\n",
       "      <td>13.70</td>\n",
       "    </tr>\n",
       "    <tr>\n",
       "      <th>2009-09-30</th>\n",
       "      <td>MMM</td>\n",
       "      <td>False</td>\n",
       "      <td>Q3</td>\n",
       "      <td>2009</td>\n",
       "      <td>10-Q</td>\n",
       "      <td>6193000000</td>\n",
       "      <td>1478000000</td>\n",
       "      <td>957000000</td>\n",
       "      <td>1.36</td>\n",
       "      <td>1.35</td>\n",
       "      <td>...</td>\n",
       "      <td>27633000000</td>\n",
       "      <td>11196000000</td>\n",
       "      <td>5766000000</td>\n",
       "      <td>3239000000</td>\n",
       "      <td>12919000000</td>\n",
       "      <td>3897000000</td>\n",
       "      <td>-1076000000</td>\n",
       "      <td>-1417000000</td>\n",
       "      <td>73.80</td>\n",
       "      <td>8.87</td>\n",
       "    </tr>\n",
       "    <tr>\n",
       "      <th>2009-12-31</th>\n",
       "      <td>MMM</td>\n",
       "      <td>False</td>\n",
       "      <td>FY</td>\n",
       "      <td>2009</td>\n",
       "      <td>10-K</td>\n",
       "      <td>23123000000</td>\n",
       "      <td>4814000000</td>\n",
       "      <td>3193000000</td>\n",
       "      <td>4.56</td>\n",
       "      <td>4.52</td>\n",
       "      <td>...</td>\n",
       "      <td>27250000000</td>\n",
       "      <td>10795000000</td>\n",
       "      <td>4897000000</td>\n",
       "      <td>3040000000</td>\n",
       "      <td>13302000000</td>\n",
       "      <td>4941000000</td>\n",
       "      <td>-1732000000</td>\n",
       "      <td>-2014000000</td>\n",
       "      <td>82.67</td>\n",
       "      <td>0.90</td>\n",
       "    </tr>\n",
       "    <tr>\n",
       "      <th>2010-03-31</th>\n",
       "      <td>MMM</td>\n",
       "      <td>False</td>\n",
       "      <td>Q1</td>\n",
       "      <td>2010</td>\n",
       "      <td>10-Q</td>\n",
       "      <td>6348000000</td>\n",
       "      <td>1445000000</td>\n",
       "      <td>930000000</td>\n",
       "      <td>1.31</td>\n",
       "      <td>1.29</td>\n",
       "      <td>...</td>\n",
       "      <td>28022000000</td>\n",
       "      <td>12106000000</td>\n",
       "      <td>5148000000</td>\n",
       "      <td>2848000000</td>\n",
       "      <td>13851000000</td>\n",
       "      <td>1082000000</td>\n",
       "      <td>-987000000</td>\n",
       "      <td>-275000000</td>\n",
       "      <td>83.57</td>\n",
       "      <td>-4.58</td>\n",
       "    </tr>\n",
       "    <tr>\n",
       "      <th>2010-06-30</th>\n",
       "      <td>MMM</td>\n",
       "      <td>False</td>\n",
       "      <td>Q2</td>\n",
       "      <td>2010</td>\n",
       "      <td>10-Q</td>\n",
       "      <td>6731000000</td>\n",
       "      <td>1596000000</td>\n",
       "      <td>1121000000</td>\n",
       "      <td>1.57</td>\n",
       "      <td>1.54</td>\n",
       "      <td>...</td>\n",
       "      <td>28496000000</td>\n",
       "      <td>12891000000</td>\n",
       "      <td>5437000000</td>\n",
       "      <td>3022000000</td>\n",
       "      <td>14263000000</td>\n",
       "      <td>2220000000</td>\n",
       "      <td>-1438000000</td>\n",
       "      <td>-698000000</td>\n",
       "      <td>78.99</td>\n",
       "      <td>7.72</td>\n",
       "    </tr>\n",
       "  </tbody>\n",
       "</table>\n",
       "<p>5 rows × 21 columns</p>\n",
       "</div>"
      ],
      "text/plain": [
       "           symbol  amend period_focus  fiscal_year doc_type     revenues  \\\n",
       "2009-06-30    MMM  False           Q2         2009     10-Q   5719000000   \n",
       "2009-09-30    MMM  False           Q3         2009     10-Q   6193000000   \n",
       "2009-12-31    MMM  False           FY         2009     10-K  23123000000   \n",
       "2010-03-31    MMM  False           Q1         2010     10-Q   6348000000   \n",
       "2010-06-30    MMM  False           Q2         2010     10-Q   6731000000   \n",
       "\n",
       "             op_income  net_income  eps_basic  eps_diluted  ...    \\\n",
       "2009-06-30  1191000000   783000000       1.12         1.12  ...     \n",
       "2009-09-30  1478000000   957000000       1.36         1.35  ...     \n",
       "2009-12-31  4814000000  3193000000       4.56         4.52  ...     \n",
       "2010-03-31  1445000000   930000000       1.31         1.29  ...     \n",
       "2010-06-30  1596000000  1121000000       1.57         1.54  ...     \n",
       "\n",
       "                 assets   cur_assets    cur_liab        cash       equity  \\\n",
       "2009-06-30  26095000000   9898000000  5318000000  2596000000  11221000000   \n",
       "2009-09-30  27633000000  11196000000  5766000000  3239000000  12919000000   \n",
       "2009-12-31  27250000000  10795000000  4897000000  3040000000  13302000000   \n",
       "2010-03-31  28022000000  12106000000  5148000000  2848000000  13851000000   \n",
       "2010-06-30  28496000000  12891000000  5437000000  3022000000  14263000000   \n",
       "\n",
       "            cash_flow_op  cash_flow_inv  cash_flow_fin  close  delta  \n",
       "2009-06-30    2161000000     -375000000    -1127000000  60.10  13.70  \n",
       "2009-09-30    3897000000    -1076000000    -1417000000  73.80   8.87  \n",
       "2009-12-31    4941000000    -1732000000    -2014000000  82.67   0.90  \n",
       "2010-03-31    1082000000     -987000000     -275000000  83.57  -4.58  \n",
       "2010-06-30    2220000000    -1438000000     -698000000  78.99   7.72  \n",
       "\n",
       "[5 rows x 21 columns]"
      ]
     },
     "execution_count": 2,
     "metadata": {},
     "output_type": "execute_result"
    }
   ],
   "source": [
    "# Add closing price and delta from next period i.e. did it go up 3 months from now\n",
    "# instead make it more binary ie 1 is went up by X% using group df1 = df[df['budget'] > 10000]\n",
    "XY = pandas.DataFrame()\n",
    "for s in symbols['symbol']:\n",
    "    try:\n",
    "        r = reports[reports.symbol == s].sort(ascending=True)\n",
    "        p = prices[prices.symbol == s].sort(ascending=True)\n",
    "        r['close'] = r.index.map(lambda x: p.ix[p.index[p.index.searchsorted(x)]]['close'])\n",
    "        r['delta'] = (r['close'].shift(-1) - r['close']).fillna(0)\n",
    "        XY = XY.append(r)\n",
    "    except:\n",
    "        print \"Problems parsing\", s\n",
    "print \"Found\", len(XY['symbol'].unique()), \"symbols\""
   ]
  },
  {
   "cell_type": "code",
   "execution_count": 4,
   "metadata": {
    "collapsed": false
   },
   "outputs": [
    {
     "name": "stdout",
     "output_type": "stream",
     "text": [
      "num train symbols: 379\n",
      "test/train 0.253043685844\n"
     ]
    }
   ],
   "source": [
    "# Split into train/test sets\n",
    "# Should use sklearn.cross_validation.StratifiedShuffleSplit to try and maintain industry sector % in each\n",
    "# Or bin by financial size http://www.gregreda.com/2013/10/26/using-pandas-on-the-movielens-dataset/\n",
    "# s = XY['symbol'].unique()\n",
    "from sklearn.cross_validation import train_test_split\n",
    "unique_symbols = pandas.unique(XY['symbol'].values.ravel())\n",
    "train_symbols, test_symbols = train_test_split(unique_symbols, test_size = 0.2)\n",
    "print \"num train symbols:\", len(train_symbols)\n",
    "train = XY[XY['symbol'].isin(train_symbols)]\n",
    "test = XY[XY['symbol'].isin(test_symbols)]\n",
    "print \"test/train\", 1.0 * len(test)/len(train)"
   ]
  },
  {
   "cell_type": "code",
   "execution_count": 5,
   "metadata": {
    "collapsed": false
   },
   "outputs": [],
   "source": [
    "# Convert into pure numerical matrices for training by dropping non-numeric columsn and split into X/y\n",
    "X_train = train.ix[:,5:-1].values\n",
    "y_train = train['delta'].values\n",
    "X_test = test.ix[:,5:-1].values\n",
    "y_test = test['delta'].values"
   ]
  },
  {
   "cell_type": "code",
   "execution_count": 7,
   "metadata": {
    "collapsed": false
   },
   "outputs": [],
   "source": [
    "import numpy\n",
    "with open(\"train_test.npz\", \"wb\") as f:\n",
    "    numpy.savez(f, X_train=X_train, y_train=y_train, X_test=X_test, y_test=y_test)"
   ]
  }
 ],
 "metadata": {
  "kernelspec": {
   "display_name": "Python 2",
   "language": "python",
   "name": "python2"
  },
  "language_info": {
   "codemirror_mode": {
    "name": "ipython",
    "version": 2
   },
   "file_extension": ".py",
   "mimetype": "text/x-python",
   "name": "python",
   "nbconvert_exporter": "python",
   "pygments_lexer": "ipython2",
   "version": "2.7.9"
  }
 },
 "nbformat": 4,
 "nbformat_minor": 0
}
