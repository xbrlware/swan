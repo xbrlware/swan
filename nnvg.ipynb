{
 "cells": [
  {
   "cell_type": "markdown",
   "metadata": {},
   "source": [
    "# Neural Net vs. Goldman\n",
    "Can an LTSM Neural Net trained on fundamentals extracted from edgar XBRL from the S&P500 pick the same long and short list as Goldman's hedgefund meta list (appologies to my high school english teacher for the run on sentence)"
   ]
  },
  {
   "cell_type": "markdown",
   "metadata": {},
   "source": [
    "## Data Sources\n",
    "Download price and fundamental data for the S&P 500 using [pystock-crawler](https://github.com/eliangcs/pystock-crawler):  \n",
    "\n",
    "`pystock-crawler reports ../tickers.csv -o ../reports.csv ../reports.log`  \n",
    "`pystock-crawler prices ../tickers.csv -o ../prices.csv -l ../prices.log`\n",
    "\n",
    "REMIND: Use pystock-crawler symbols to get symbols for training input...\n",
    "\n",
    "X = 4 quarters of fundamental data and whether stock was up or down from the prior quarter y = whether the stock was up or down x days after the period that X was comprised of"
   ]
  },
  {
   "cell_type": "code",
   "execution_count": 1,
   "metadata": {
    "collapsed": false
   },
   "outputs": [],
   "source": [
    "import pandas\n",
    "prices = pandas.read_csv('prices.csv', parse_dates=['date'], index_col=1)\n",
    "reports = pandas.read_csv('reports.csv', parse_dates=['date'], index_col=1)\n",
    "reports = reports[reports.amend == False]\n",
    "symbols = pandas.read_csv('symbols.csv').sort('symbol').sort('symbol')"
   ]
  },
  {
   "cell_type": "code",
   "execution_count": 2,
   "metadata": {
    "collapsed": false
   },
   "outputs": [],
   "source": [
    "def features(symbol, window_size=4, overlap=1):\n",
    "    num_windows = len(reports[reports.symbol == symbol]) - window_size + 1\n",
    "    # Create a set of sequences of reports returning X, y\n",
    "    r = reports[reports.symbol == symbol].sort(ascending=True)\n",
    "    p = prices[prices.symbol == symbol].sort(ascending=True)\n",
    "    print \"Found\", len(r), \"reports for\", symbol\n",
    "\n",
    "    # Add closing stock price to each report\n",
    "    r['close'] = r.index.map(lambda x: p.ix[p.index[p.index.searchsorted(x)]]['close'])\n",
    "\n",
    "    # Fixup annual 10-k numbers by subtracting the prior 3 quarters\n",
    "    # REMIND: Go back and verify the adjustments\n",
    "    for c in ['revenues', 'op_income', 'net_income',\n",
    "     'eps_basic', 'eps_diluted', 'dividend',\n",
    "     'cash_flow_op', 'cash_flow_inv', u'cash_flow_fin']:\n",
    "        r[c + '_adj'] = r[c] - r[c].shift(1) - r[c].shift(2) - r[c].shift(3)\n",
    "        r.ix[r.period_focus == 'FY', c] = r[r.period_focus == 'FY'][c + '_adj']\n",
    "        \n",
    "    # Delete all non-numeric columns\n",
    "    r = r.ix[:,5:-9]\n",
    "    \n",
    "    # Divide into overlapping windows\n",
    "    X = [r[i:i + window_size] for i in range(len(r) - window_size + 1 - num_windows,len(r) - window_size + 1, overlap)]\n",
    "\n",
    "    # Calculate % rise in stock price n days after the last report in the window\n",
    "    days_after = 10\n",
    "    y = [1 - p.ix[p.index[p.index.searchsorted(x.index[3]) + days_after]].close / x.ix[3].close for x in X]\n",
    "    \n",
    "    return [x.values for x in X], y"
   ]
  },
  {
   "cell_type": "code",
   "execution_count": 3,
   "metadata": {
    "collapsed": false
   },
   "outputs": [
    {
     "name": "stdout",
     "output_type": "stream",
     "text": [
      "Found 22 reports for A\n",
      "Found 25 reports for ADBE\n",
      "Found 24 reports for AET\n",
      "Found 25 reports for AMAT\n",
      "Found 24 reports for APA\n",
      "Found 22 reports for AZO\n",
      "Found 24 reports for BWA\n",
      "Found 24 reports for CBS\n",
      "Found 20 reports for CINF\n",
      "Found 25 reports for CNX\n",
      "Found 23 reports for CSCO\n",
      "Found 20 reports for DAL\n",
      "Found 25 reports for DTV\n",
      "Found 19 reports for EL\n",
      "Found 13 reports for ESRX\n",
      "Found 24 reports for F\n",
      "Found 24 reports for FITB\n",
      "Found 14 reports for GAS\n",
      "Generated features vectors for 18 stocks\n"
     ]
    }
   ],
   "source": [
    "data = {s: features(s, window_size=4, overlap=1) \n",
    "        for s in symbols['symbol'][0:200:10] if len(reports[reports.symbol == s]) >= 4}\n",
    "print \"Generated features vectors for\", len(data),\"stocks\""
   ]
  },
  {
   "cell_type": "code",
   "execution_count": 4,
   "metadata": {
    "collapsed": false
   },
   "outputs": [
    {
     "name": "stdout",
     "output_type": "stream",
     "text": [
      "num train symbols: 14 num test symbols: 4\n",
      "test/train 0.285714285714\n"
     ]
    }
   ],
   "source": [
    "# Split into train/test sets\n",
    "# Should use sklearn.cross_validation.StratifiedShuffleSplit to try and maintain industry sector % in each\n",
    "# Or bin by financial size http://www.gregreda.com/2013/10/26/using-pandas-on-the-movielens-dataset/\n",
    "# s = XY['symbol'].unique()\n",
    "from sklearn.cross_validation import train_test_split\n",
    "train_symbols, test_symbols = train_test_split(data.keys(), test_size = 0.2)\n",
    "print \"num train symbols:\", len(train_symbols), \"num test symbols:\", len(test_symbols)\n",
    "X_train = [data[s][0] for s in train_symbols]\n",
    "y_train = [data[s][1] for s in train_symbols]\n",
    "X_test = [data[s][0] for s in test_symbols]\n",
    "y_test = [data[s][1] for s in test_symbols]\n",
    "print \"test/train\", 1.0 * len(X_test)/len(X_train)"
   ]
  },
  {
   "cell_type": "code",
   "execution_count": 11,
   "metadata": {
    "collapsed": false
   },
   "outputs": [
    {
     "data": {
      "text/plain": [
       "[3006300000.0,\n",
       " 242200000.0,\n",
       " 15400000.0,\n",
       " 0.02,\n",
       " 0.02,\n",
       " 0.050000000000000003,\n",
       " 26025900000.0,\n",
       " 4711100000.0,\n",
       " 4136900000.0,\n",
       " 341500000.0,\n",
       " 8610100000.0,\n",
       " 395300000.0,\n",
       " -185800000.0,\n",
       " -287500000.0,\n",
       " 6.9199999999999999,\n",
       " 3350000000.0,\n",
       " 418200000.0,\n",
       " 207600000.0,\n",
       " 0.31,\n",
       " 0.29999999999999999,\n",
       " 0.050000000000000003,\n",
       " 26560500000.0,\n",
       " 5101300000.0,\n",
       " 4220600000.0,\n",
       " 473800000.0,\n",
       " 8846200000.0,\n",
       " 567900000.0,\n",
       " -185500000.0,\n",
       " -328100000.0,\n",
       " 12.050000000000001,\n",
       " nan,\n",
       " nan,\n",
       " nan,\n",
       " nan,\n",
       " nan,\n",
       " nan,\n",
       " 26962000000.0,\n",
       " 5636900000.0,\n",
       " 4746500000.0,\n",
       " 716700000.0,\n",
       " 9019400000.0,\n",
       " nan,\n",
       " nan,\n",
       " nan,\n",
       " 14.050000000000001,\n",
       " 3530900000.0,\n",
       " 153400000.0,\n",
       " -26200000.0,\n",
       " -0.040000000000000001,\n",
       " -0.040000000000000001,\n",
       " 0.050000000000000003,\n",
       " 26756100000.0,\n",
       " 5705200000.0,\n",
       " 4712300000.0,\n",
       " 872700000.0,\n",
       " 9046100000.0,\n",
       " 700700000.0,\n",
       " -73600000.0,\n",
       " -471100000.0,\n",
       " 13.94]"
      ]
     },
     "execution_count": 11,
     "metadata": {},
     "output_type": "execute_result"
    }
   ],
   "source": [
    "def flatten(l):\n",
    "    return [item for sublist in l for item in sublist]\n",
    "[flatten(x) for x in flatten(X_test)][0]"
   ]
  },
  {
   "cell_type": "code",
   "execution_count": 12,
   "metadata": {
    "collapsed": false
   },
   "outputs": [],
   "source": [
    "import numpy\n",
    "with open(\"train_test.npz\", \"wb\") as f:\n",
    "    numpy.savez(f, X_train=flatten(X_train), y_train=flatten(y_train), X_test=flatten(X_test), y_test=flatten(y_test))"
   ]
  }
 ],
 "metadata": {
  "kernelspec": {
   "display_name": "Python 2",
   "language": "python",
   "name": "python2"
  },
  "language_info": {
   "codemirror_mode": {
    "name": "ipython",
    "version": 2
   },
   "file_extension": ".py",
   "mimetype": "text/x-python",
   "name": "python",
   "nbconvert_exporter": "python",
   "pygments_lexer": "ipython2",
   "version": "2.7.9"
  }
 },
 "nbformat": 4,
 "nbformat_minor": 0
}
